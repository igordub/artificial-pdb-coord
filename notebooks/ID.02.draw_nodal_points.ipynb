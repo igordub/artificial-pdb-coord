{
 "cells": [
  {
   "cell_type": "markdown",
   "metadata": {},
   "source": [
    "# Draw nodal points\n",
    "This script finds pairs of column vectors with different sign for each eigenvector and draws a magnitude-weighted point between the column vectors.\n",
    "\n",
    "## Purpose\n",
    "Visualize nodal surfaces for each eigenvector.\n",
    "\n",
    "## Methodology\n",
    "Each normal mode contains one or more nodal surfaces where bead displacemnet is zero.\n",
    "\n",
    "## WIP - improvements\n",
    "Use this section only if the notebook is not final.\n",
    "\n",
    "Notable TODOs:\n",
    "- todo 1;\n",
    "- todo 2;\n",
    "- todo 3.\n",
    "\n",
    "## Results\n",
    "Describe and comment the most important results.\n",
    "\n",
    "## Suggested next steps\n",
    "State suggested next steps, based on results obtained in this notebook."
   ]
  },
  {
   "cell_type": "markdown",
   "metadata": {},
   "source": [
    "# Setup\n",
    "\n",
    "## Library import\n",
    "We import all the required Python libraries"
   ]
  },
  {
   "cell_type": "code",
   "execution_count": 1,
   "metadata": {
    "ExecuteTime": {
     "end_time": "2019-06-16T14:44:50.874881Z",
     "start_time": "2019-06-16T14:44:38.616867Z"
    }
   },
   "outputs": [
    {
     "data": {
      "text/html": [
       "        <script type=\"text/javascript\">\n",
       "        window.PlotlyConfig = {MathJaxConfig: 'local'};\n",
       "        if (window.MathJax) {MathJax.Hub.Config({SVG: {font: \"STIX-Web\"}});}\n",
       "        if (typeof require !== 'undefined') {\n",
       "        require.undef(\"plotly\");\n",
       "        requirejs.config({\n",
       "            paths: {\n",
       "                'plotly': ['https://cdn.plot.ly/plotly-latest.min']\n",
       "            }\n",
       "        });\n",
       "        require(['plotly'], function(Plotly) {\n",
       "            window._Plotly = Plotly;\n",
       "        });\n",
       "        }\n",
       "        </script>\n",
       "        "
      ]
     },
     "metadata": {},
     "output_type": "display_data"
    }
   ],
   "source": [
    "# Data manipulation\n",
    "import pandas as pd\n",
    "import numpy as np\n",
    "import os\n",
    "import glob\n",
    "from biopandas.pdb import PandasPdb\n",
    "from pymol import cmd\n",
    "\n",
    "# Options for pandas\n",
    "pd.options.display.max_columns = 50\n",
    "pd.options.display.max_rows = 30\n",
    "\n",
    "# Visualizations\n",
    "import plotly\n",
    "import plotly.graph_objs as go\n",
    "import plotly.offline as ply\n",
    "plotly.offline.init_notebook_mode(connected=True)\n",
    "\n",
    "import matplotlib.pyplot as plt\n",
    "import seaborn as sns\n",
    "\n",
    "# Autoreload extension\n",
    "if 'autoreload' not in get_ipython().extension_manager.loaded:\n",
    "    %load_ext autoreload\n",
    "    \n",
    "%autoreload 2"
   ]
  },
  {
   "cell_type": "markdown",
   "metadata": {},
   "source": [
    "### Change directory\n",
    "If Jupyter lab sets the root directory in `notebooks`, change directory."
   ]
  },
  {
   "cell_type": "code",
   "execution_count": 2,
   "metadata": {},
   "outputs": [],
   "source": [
    "if \"notebook\" in os.getcwd():\n",
    "    os.chdir(\"..\")"
   ]
  },
  {
   "cell_type": "markdown",
   "metadata": {},
   "source": [
    "## Local library import\n",
    "We import all the required local libraries libraries"
   ]
  },
  {
   "cell_type": "code",
   "execution_count": 3,
   "metadata": {
    "ExecuteTime": {
     "end_time": "2019-06-16T14:44:51.041573Z",
     "start_time": "2019-06-16T14:44:50.878543Z"
    }
   },
   "outputs": [],
   "source": [
    "# Include local library paths\n",
    "import sys\n",
    "sys.path.append(\"./src\") # uncomment and fill to import local libraries\n",
    "\n",
    "# Import local libraries\n",
    "import src.utilities as utils"
   ]
  },
  {
   "cell_type": "markdown",
   "metadata": {},
   "source": [
    "# Parameter definition\n",
    "We set all relevant parameters for our notebook. By convention, parameters are uppercase, while all the \n",
    "other variables follow Python's guidelines."
   ]
  },
  {
   "cell_type": "code",
   "execution_count": 4,
   "metadata": {},
   "outputs": [],
   "source": [
    "EIGENVECTOR_FILEPATH = \"data/processed/eigenvector_024\"\n",
    "config = utils.read_config()\n",
    "\n",
    "COORDS = \"data/raw/CAonly.pdb\"\n",
    "\n",
    "plt.style.use(config['viz']['jupyter'])"
   ]
  },
  {
   "cell_type": "markdown",
   "metadata": {},
   "source": [
    "\n",
    "# Data import\n",
    "We retrieve all the required data for the analysis."
   ]
  },
  {
   "cell_type": "code",
   "execution_count": 5,
   "metadata": {},
   "outputs": [],
   "source": [
    "eigenvector_filepaths = sorted(glob.glob(\"data/processed/eigenvector_???\"))\n",
    "no_modes = len(eigenvector_filepaths)\n",
    "eigenvector_filepath_format = \"data/processed/eigenvector_{:03}\"\n",
    "eigenvectors = {mode_num : np.loadtxt(eigenvector_filepath_format.format(mode_num)) for mode_num in range(7,no_modes+7)}\n",
    "\n",
    "coords = PandasPdb().read_pdb(COORDS)"
   ]
  },
  {
   "cell_type": "markdown",
   "metadata": {},
   "source": [
    "# Data processing\n",
    "Put here the core of the notebook. Feel free to further split this section into subsections."
   ]
  },
  {
   "cell_type": "markdown",
   "metadata": {},
   "source": [
    "### Renormalize each row/column vector of mode eigenvector\n",
    "**Note** The motion's amplitude inforamtion is lost."
   ]
  },
  {
   "cell_type": "code",
   "execution_count": 6,
   "metadata": {},
   "outputs": [],
   "source": [
    "# Renormalize eigenvectors\n",
    "# for key in eigenvectors.keys():\n",
    "#     eigenvector = eigenvectors[key]\n",
    "#     for row_idx in range(eigenvector.shape[0]):\n",
    "#         eigenvector[row_idx] = eigenvector[row_idx] / np.linalg.norm(eigenvector[row_idx])"
   ]
  },
  {
   "cell_type": "code",
   "execution_count": 7,
   "metadata": {},
   "outputs": [],
   "source": [
    "coords = coords.df['ATOM'][['x_coord','y_coord','z_coord']].to_numpy()"
   ]
  },
  {
   "cell_type": "code",
   "execution_count": 23,
   "metadata": {},
   "outputs": [],
   "source": [
    "def calcualte_dotprod(eigenvector):\n",
    "    no_beads = np.shape(eigenvector)[0]\n",
    "    dotprod = np.zeros((no_beads, no_beads))\n",
    "\n",
    "    for i in np.arange(no_beads):\n",
    "        for j in np.arange(i+1):\n",
    "            vector_1 = eigenvector[i]\n",
    "            vector_2 = eigenvector[j]\n",
    "            dotprod[i][j] = np.dot(vector_1, vector_2)\n",
    "\n",
    "    dotprod = dotprod + dotprod.T\n",
    "    return dotprod\n",
    "\n",
    "def calcualte_crossprod_norm(eigenvector):\n",
    "    no_beads = np.shape(eigenvector)[0]\n",
    "    crossprod_norm = np.zeros((no_beads, no_beads))\n",
    "\n",
    "    for i in np.arange(no_beads):\n",
    "        for j in np.arange(i+1):\n",
    "            vector_1 = eigenvector[i]\n",
    "            vector_2 = eigenvector[j]\n",
    "            crossprod_norm[i][j] = np.linalg.norm(np.cross(eigenvector[i], eigenvector[j]))\n",
    "\n",
    "    crossprod_norm = crossprod_norm + crossprod_norm.T\n",
    "    return crossprod_norm\n",
    "\n",
    "def factorize(number):\n",
    "    \"\"\" Factorizes number into two near integers.\n",
    "    \"\"\"\n",
    "    x = math.floor(math.sqrt(number))\n",
    "    y = math.ceil(number / x)\n",
    "    return (x, y)\n",
    "\n",
    "def find_nodal_points(coords, eigenvector, neg_dotprod_idxs):\n",
    "    nodal_points = []\n",
    "    for residue_pair in neg_dotprod_idxs:\n",
    "        residue_idx_1 = residue_pair[0]\n",
    "        residue_idx_2 = residue_pair[1]\n",
    "\n",
    "        pos_vector_1 = coords[residue_idx_1]\n",
    "        pos_vector_2 = coords[residue_idx_2]\n",
    "\n",
    "        diff_vector = pos_vector_2 - pos_vector_1\n",
    "        eigenvector_mag_1 = np.linalg.norm(eigenvector[residue_idx_1])\n",
    "        eigenvector_mag_2 = np.linalg.norm(eigenvector[residue_idx_2])\n",
    "\n",
    "        nodal_point = diff_vector * (eigenvector_mag_1 / (eigenvector_mag_1 + eigenvector_mag_2)) + pos_vector_1\n",
    "        nodal_points.append(nodal_point)\n",
    "    \n",
    "    return nodal_points"
   ]
  },
  {
   "cell_type": "code",
   "execution_count": 21,
   "metadata": {},
   "outputs": [
    {
     "name": "stdout",
     "output_type": "stream",
     "text": [
      "pos_vector_1\n",
      "4.000 0.000 0.000\n",
      "pos_vector_0\n",
      "0.000 0.000 0.000\n",
      "pos_vector_0 - pos_vector_1\n",
      "-4.000 0.000 0.000\n",
      "2.000 0.000 0.000\n",
      "\n",
      "pos_vector_3\n",
      "2.000 1.155 3.266\n",
      "pos_vector_2\n",
      "2.000 3.464 0.000\n",
      "pos_vector_2 - pos_vector_3\n",
      "0.000 2.309 -3.266\n",
      "2.000 2.309 1.633\n",
      "\n"
     ]
    }
   ],
   "source": [
    "eigenvector = eigenvectors[7]\n",
    "\n",
    "dotprod = calcualte_dotprod(eigenvector)\n",
    "# Mask upper triangualr part\n",
    "dotprod[np.mask_indices(dotprod.shape[0], np.triu)] = 0\n",
    "\n",
    "neg_dotprod_idxs = np.where(dotprod < 0)\n",
    "neg_dotprod_idxs = [(neg_dotprod_idxs[0][i],neg_dotprod_idxs[1][i]) for i in range(len(neg_dotprod_idxs[0]))]\n",
    "\n",
    "nodal_points = []\n",
    "for residue_pair in neg_dotprod_idxs:\n",
    "    residue_idx_1 = residue_pair[0]\n",
    "    residue_idx_2 = residue_pair[1]\n",
    "\n",
    "    pos_vector_1 = coords[residue_idx_1]\n",
    "    pos_vector_2 = coords[residue_idx_2]\n",
    "    \n",
    "    print(\"pos_vector_{}\".format(residue_pair[0]))\n",
    "    print(\"{:.3f} {:.3f} {:.3f}\".format(*pos_vector_1))\n",
    "    print(\"pos_vector_{}\".format(residue_pair[1]))\n",
    "    print(\"{:.3f} {:.3f} {:.3f}\".format(*pos_vector_2))\n",
    "    print(\"pos_vector_{} - pos_vector_{}\".format(residue_pair[1], residue_pair[0]))\n",
    "    diff_vector = pos_vector_2 - pos_vector_1\n",
    "    print(\"{:.3f} {:.3f} {:.3f}\".format(*diff_vector))\n",
    "    eigenvector_mag_1 = np.linalg.norm(eigenvector[residue_idx_1])\n",
    "    eigenvector_mag_2 = np.linalg.norm(eigenvector[residue_idx_2])\n",
    "    nodal_point = diff_vector * (eigenvector_mag_1 / (eigenvector_mag_1 + eigenvector_mag_2)) + pos_vector_1\n",
    "    print(\"{:.3f} {:.3f} {:.3f}\".format(*nodal_point))\n",
    "    nodal_points.append(nodal_point)\n",
    "    print()"
   ]
  },
  {
   "cell_type": "markdown",
   "metadata": {},
   "source": [
    "# Data visualization\n",
    "Visualize processed data"
   ]
  },
  {
   "cell_type": "code",
   "execution_count": 24,
   "metadata": {},
   "outputs": [],
   "source": [
    "# Draw nodal points\n",
    "structure_filepath = \"data/raw/CAonly.pdb\"\n",
    "for mode_num, eigenvector in eigenvectors.items():\n",
    "    dotprod = calcualte_dotprod(eigenvector)\n",
    "    \n",
    "    neg_dotprod_idxs = np.where(dotprod < 0)\n",
    "    neg_dotprod_idxs = [(neg_dotprod_idxs[0][i],neg_dotprod_idxs[1][i]) for i in range(len(neg_dotprod_idxs[0]))]\n",
    "    \n",
    "    nodal_points = find_nodal_points(coords, eigenvector, neg_dotprod_idxs)\n",
    "    cmd.reinitialize()\n",
    "    structure_name =\"CAonly\"\n",
    "    pymol_view =    ((\\\n",
    "                    0.254109710,    0.685759246,    0.682028472,\\\n",
    "                    -0.659577310,   -0.392885894,    0.640778780,\\\n",
    "                    0.707380295,   -0.612679243,    0.352475613,\\\n",
    "                    0.000000893,   -0.000001701,  -20.039798737,\\\n",
    "                    2.060348749,    0.924048603,    0.750656426,\\\n",
    "                    17.039802551,   23.039796829,  -20.000000000 ))\n",
    "    cmd.delete('all')\n",
    "    cmd.load(structure_filepath, structure_name)\n",
    "    cmd.set('sphere_scale', 0.5, structure_name)\n",
    "    for idx, nodal_point in enumerate(nodal_points):\n",
    "        nodal_point = nodal_point.tolist()\n",
    "        cmd.pseudoatom(\"nodal_points\", selection='', name='PS1', resn='NDP', resi=str(idx+1), chain='A',\n",
    "                       segi='PSDO', elem='PS', vdw=-1.0, hetatm=1, b=0.0, q=0.0, color='tv_red',\n",
    "                       label='', pos=nodal_point, state=0, mode='rms', quiet=1)\n",
    "\n",
    "    cmd.show_as('sphere', 'all')\n",
    "    cmd.set('sphere_scale', 0.3, \"nodal_points\")\n",
    "\n",
    "    cmd.viewport(width=1200, height=1200)\n",
    "    cmd.zoom(buffer=1,complete=1)\n",
    "\n",
    "    cmd.save(\"tmp/mode_{:03}.pse\".format(mode_num))\n",
    "    cmd.set('ray_opaque_background', 0)\n",
    "    cmd.png(\"tmp/mode_{:03}.png\".format(mode_num), width=1200, height=1200, ray=1)"
   ]
  },
  {
   "cell_type": "code",
   "execution_count": null,
   "metadata": {
    "jupyter": {
     "source_hidden": true
    }
   },
   "outputs": [],
   "source": [
    "with plt.rc_context({'font.size': 4, 'xtick.labelsize': 5, 'ytick.labelsize': 5, 'axes.titlesize': 7}):\n",
    "    _, axs = plt.subplots(subplot_rows, subplot_columns)\n",
    "    mode_num = 7\n",
    "    for i in range(subplot_rows):\n",
    "        for j in range(subplot_columns):\n",
    "            corossprod_norm = calcualte_crossprod_norm(eigenvectors[mode_num])\n",
    "            plot_crosscor(corossprod_norm, vmin=0, center=None, vmax=1, cmap=plt.cm.binary, axis=axs[i, j], annot=False)\n",
    "\n",
    "            axs[i, j].set_title(\"mode {}\".format(mode_num))\n",
    "            mode_num += 1\n",
    "\n",
    "    plt.tight_layout()"
   ]
  },
  {
   "cell_type": "markdown",
   "metadata": {},
   "source": [
    "# References\n",
    "We report here relevant references:\n",
    "1. author1, article1, journal1, year1, url1\n",
    "2. author2, article2, journal2, year2, url2"
   ]
  },
  {
   "cell_type": "code",
   "execution_count": null,
   "metadata": {},
   "outputs": [],
   "source": []
  }
 ],
 "metadata": {
  "kernelspec": {
   "display_name": "Python 3",
   "language": "python",
   "name": "python3"
  },
  "language_info": {
   "codemirror_mode": {
    "name": "ipython",
    "version": 3
   },
   "file_extension": ".py",
   "mimetype": "text/x-python",
   "name": "python",
   "nbconvert_exporter": "python",
   "pygments_lexer": "ipython3",
   "version": "3.8.8"
  },
  "pycharm": {
   "stem_cell": {
    "cell_type": "raw",
    "metadata": {
     "collapsed": false
    },
    "source": []
   }
  },
  "toc": {
   "base_numbering": 1,
   "nav_menu": {},
   "number_sections": true,
   "sideBar": true,
   "skip_h1_title": false,
   "title_cell": "Table of Contents",
   "title_sidebar": "Contents",
   "toc_cell": false,
   "toc_position": {},
   "toc_section_display": true,
   "toc_window_display": false
  },
  "varInspector": {
   "cols": {
    "lenName": 16,
    "lenType": 16,
    "lenVar": 40
   },
   "kernels_config": {
    "python": {
     "delete_cmd_postfix": "",
     "delete_cmd_prefix": "del ",
     "library": "var_list.py",
     "varRefreshCmd": "print(var_dic_list())"
    },
    "r": {
     "delete_cmd_postfix": ") ",
     "delete_cmd_prefix": "rm(",
     "library": "var_list.r",
     "varRefreshCmd": "cat(var_dic_list()) "
    }
   },
   "types_to_exclude": [
    "module",
    "function",
    "builtin_function_or_method",
    "instance",
    "_Feature"
   ],
   "window_display": false
  }
 },
 "nbformat": 4,
 "nbformat_minor": 4
}
