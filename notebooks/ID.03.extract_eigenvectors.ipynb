{
 "cells": [
  {
   "cell_type": "markdown",
   "source": [
    "# Extract eigenvectors\n",
    "Get eigenvectors from DDPT ENM simulations.\n",
    "\n",
    "## Purpose\n",
    "Play with ways how to extract eigenvectors' data from `matrix.eigenfacs` file.\n",
    "\n",
    "## Methodology\n",
    "Use NumPy and/or Pandas to handle data and save it as `.csv` file.\n",
    "\n",
    "## WIP - improvements\n",
    "Use this section only if the notebook is not final.\n",
    "\n",
    "Notable TODOs:\n",
    "- todo 1;\n",
    "- todo 2;\n",
    "- todo 3.\n",
    "\n",
    "## Results\n",
    "Describe and comment the most important results.\n",
    "\n",
    "## Suggested next steps\n",
    "State suggested next steps, based on results obtained in this notebook."
   ],
   "metadata": {}
  },
  {
   "cell_type": "markdown",
   "source": [
    "# Setup\n",
    "\n",
    "## Library import\n",
    "We import all the required Python libraries"
   ],
   "metadata": {}
  },
  {
   "cell_type": "code",
   "execution_count": 1,
   "source": [
    "# Data manipulation\n",
    "import pandas as pd\n",
    "import numpy as np\n",
    "import os\n",
    "import glob\n",
    "from biopandas.pdb import PandasPdb\n",
    "from pymol import cmd\n",
    "\n",
    "# Options for pandas\n",
    "pd.options.display.max_columns = 50\n",
    "pd.options.display.max_rows = 30\n",
    "\n",
    "# Visualizations\n",
    "import plotly\n",
    "import plotly.graph_objs as go\n",
    "import plotly.offline as ply\n",
    "plotly.offline.init_notebook_mode(connected=True)\n",
    "\n",
    "import matplotlib.pyplot as plt\n",
    "import seaborn as sns\n",
    "\n",
    "# Autoreload extension\n",
    "if 'autoreload' not in get_ipython().extension_manager.loaded:\n",
    "    %load_ext autoreload\n",
    "    \n",
    "%autoreload 2"
   ],
   "outputs": [
    {
     "output_type": "display_data",
     "data": {
      "text/html": [
       "        <script type=\"text/javascript\">\n",
       "        window.PlotlyConfig = {MathJaxConfig: 'local'};\n",
       "        if (window.MathJax) {MathJax.Hub.Config({SVG: {font: \"STIX-Web\"}});}\n",
       "        if (typeof require !== 'undefined') {\n",
       "        require.undef(\"plotly\");\n",
       "        requirejs.config({\n",
       "            paths: {\n",
       "                'plotly': ['https://cdn.plot.ly/plotly-latest.min']\n",
       "            }\n",
       "        });\n",
       "        require(['plotly'], function(Plotly) {\n",
       "            window._Plotly = Plotly;\n",
       "        });\n",
       "        }\n",
       "        </script>\n",
       "        "
      ]
     },
     "metadata": {}
    }
   ],
   "metadata": {
    "ExecuteTime": {
     "end_time": "2019-06-16T14:44:50.874881Z",
     "start_time": "2019-06-16T14:44:38.616867Z"
    }
   }
  },
  {
   "cell_type": "markdown",
   "source": [
    "### Change directory\n",
    "If Jupyter lab sets the root directory in `notebooks`, change directory."
   ],
   "metadata": {}
  },
  {
   "cell_type": "code",
   "execution_count": 2,
   "source": [
    "if \"notebook\" in os.getcwd():\n",
    "    os.chdir(\"..\")"
   ],
   "outputs": [],
   "metadata": {}
  },
  {
   "cell_type": "markdown",
   "source": [
    "## Local library import\n",
    "We import all the required local libraries libraries"
   ],
   "metadata": {}
  },
  {
   "cell_type": "code",
   "execution_count": 3,
   "source": [
    "# Include local library paths\n",
    "import sys\n",
    "sys.path.append(\"./src\") # uncomment and fill to import local libraries\n",
    "\n",
    "# Import local libraries\n",
    "import src.utilities as utils"
   ],
   "outputs": [],
   "metadata": {
    "ExecuteTime": {
     "end_time": "2019-06-16T14:44:51.041573Z",
     "start_time": "2019-06-16T14:44:50.878543Z"
    }
   }
  },
  {
   "cell_type": "markdown",
   "source": [
    "# Parameter definition\n",
    "We set all relevant parameters for our notebook. By convention, parameters are uppercase, while all the \n",
    "other variables follow Python's guidelines."
   ],
   "metadata": {}
  },
  {
   "cell_type": "code",
   "execution_count": 4,
   "source": [
    "EIGENFACS_FILEPATH=\"data/raw/matrix.eigenfacs\""
   ],
   "outputs": [],
   "metadata": {}
  },
  {
   "cell_type": "markdown",
   "source": [
    "\n",
    "# Data import\n",
    "We retrieve all the required data for the analysis."
   ],
   "metadata": {}
  },
  {
   "cell_type": "code",
   "execution_count": 5,
   "source": [
    "with open(EIGENFACS_FILEPATH) as file: # Use file to refer to the file object\n",
    "    eigenfacs = file.read().splitlines()\n",
    "\n",
    "# eigenfacs = np.loadtxt(EIGENFACS_FILEPATH)"
   ],
   "outputs": [],
   "metadata": {}
  },
  {
   "cell_type": "code",
   "execution_count": 29,
   "source": [
    "# Count number of EN beads\n",
    "if eigenfacs[0][1:7] != \"VECTOR\":\n",
    "    print(\"Check matrix.eigenfacs.\")\n",
    "else:\n",
    "    i = 0\n",
    "    # First line: VECTOR \n",
    "    # Second line: ---\n",
    "    while(eigenfacs[i+2][1:7] != \"VECTOR\"):\n",
    "        i += 1\n",
    "    no_beads = i\n",
    "    \n",
    "    \n",
    "# Extract eigenvalues\n",
    "eigenvalues = eigenfacs[::no_beads+2]\n",
    "mode_numbers = [int(line[8:12]) for line in eigenvalues]\n",
    "eigenvalues = [float(line[-10:]) for line in eigenvalues]\n",
    "\n",
    "eigenvalues = pd.DataFrame(data=eigenvalues, index=mode_numbers)\n",
    "eigenvalues.columns = ['eigenvalue']\n",
    "eigenvalues.index.name = 'mode'\n",
    "\n",
    "print(\"# of beads = {}\\n# of modes = {}\".format(no_beads, len(mode_numbers)))\n",
    "eigenvalues.head(7)\n"
   ],
   "outputs": [
    {
     "output_type": "stream",
     "name": "stdout",
     "text": [
      "# of beads = 399\n",
      "# of modes = 1197\n"
     ]
    },
    {
     "output_type": "execute_result",
     "data": {
      "text/plain": [
       "        eigenvalue\n",
       "mode              \n",
       "1     4.528800e-09\n",
       "2     4.715300e-09\n",
       "3     4.753600e-09\n",
       "4     4.831500e-09\n",
       "5     4.973900e-09\n",
       "6     5.008700e-09\n",
       "7     7.585700e-04"
      ],
      "text/html": [
       "<div>\n",
       "<style scoped>\n",
       "    .dataframe tbody tr th:only-of-type {\n",
       "        vertical-align: middle;\n",
       "    }\n",
       "\n",
       "    .dataframe tbody tr th {\n",
       "        vertical-align: top;\n",
       "    }\n",
       "\n",
       "    .dataframe thead th {\n",
       "        text-align: right;\n",
       "    }\n",
       "</style>\n",
       "<table border=\"1\" class=\"dataframe\">\n",
       "  <thead>\n",
       "    <tr style=\"text-align: right;\">\n",
       "      <th></th>\n",
       "      <th>eigenvalue</th>\n",
       "    </tr>\n",
       "    <tr>\n",
       "      <th>mode</th>\n",
       "      <th></th>\n",
       "    </tr>\n",
       "  </thead>\n",
       "  <tbody>\n",
       "    <tr>\n",
       "      <th>1</th>\n",
       "      <td>4.528800e-09</td>\n",
       "    </tr>\n",
       "    <tr>\n",
       "      <th>2</th>\n",
       "      <td>4.715300e-09</td>\n",
       "    </tr>\n",
       "    <tr>\n",
       "      <th>3</th>\n",
       "      <td>4.753600e-09</td>\n",
       "    </tr>\n",
       "    <tr>\n",
       "      <th>4</th>\n",
       "      <td>4.831500e-09</td>\n",
       "    </tr>\n",
       "    <tr>\n",
       "      <th>5</th>\n",
       "      <td>4.973900e-09</td>\n",
       "    </tr>\n",
       "    <tr>\n",
       "      <th>6</th>\n",
       "      <td>5.008700e-09</td>\n",
       "    </tr>\n",
       "    <tr>\n",
       "      <th>7</th>\n",
       "      <td>7.585700e-04</td>\n",
       "    </tr>\n",
       "  </tbody>\n",
       "</table>\n",
       "</div>"
      ]
     },
     "metadata": {},
     "execution_count": 29
    }
   ],
   "metadata": {}
  },
  {
   "cell_type": "code",
   "execution_count": null,
   "source": [
    "eigenvalues.to_csv(\"tmp/eigenvalues.csv\")"
   ],
   "outputs": [],
   "metadata": {}
  },
  {
   "cell_type": "code",
   "execution_count": 88,
   "source": [
    "no_modes = len(mode_numbers)\n",
    "eigenvectors = np.split(np.array(eigenfacs), no_modes)\n",
    "# Remove VECTOR and --- lines\n",
    "eigenvectors = [array[2:] for array in eigenvectors]\n",
    "eigenvectors = np.concatenate(eigenvectors)\n",
    "eigenvectors = np.loadtxt(eigenvectors)\n",
    "\n",
    "mode = np.repeat(mode_numbers, no_beads)\n",
    "bead_number = np.tile(np.arange(no_beads)+1, no_modes)\n",
    "eigenvectors = np.hstack((np.vstack((mode, bead_number)).T, eigenvectors))"
   ],
   "outputs": [],
   "metadata": {}
  },
  {
   "cell_type": "code",
   "execution_count": 86,
   "source": [
    "eigenvectors.shape"
   ],
   "outputs": [
    {
     "output_type": "execute_result",
     "data": {
      "text/plain": [
       "(477603, 3)"
      ]
     },
     "metadata": {},
     "execution_count": 86
    }
   ],
   "metadata": {}
  },
  {
   "cell_type": "code",
   "execution_count": 91,
   "source": [
    "eigenvectors = pd.DataFrame(data=eigenvectors, columns=['mode', 'bead_number', 'x_comp', 'y_comp', 'z_comp'])\\\n",
    "    .astype({'mode' : int, 'bead_number' : int})\n",
    "eigenvectors.head()"
   ],
   "outputs": [
    {
     "output_type": "execute_result",
     "data": {
      "text/plain": [
       "   mode  bead_number    x_comp    y_comp    z_comp\n",
       "0     1            1 -0.049686  0.003702 -0.003721\n",
       "1     1            2 -0.043219  0.005798 -0.003236\n",
       "2     1            3 -0.035820  0.004682 -0.001633\n",
       "3     1            4 -0.039140  0.010346 -0.003891\n",
       "4     1            5 -0.041187  0.016402 -0.006047"
      ],
      "text/html": [
       "<div>\n",
       "<style scoped>\n",
       "    .dataframe tbody tr th:only-of-type {\n",
       "        vertical-align: middle;\n",
       "    }\n",
       "\n",
       "    .dataframe tbody tr th {\n",
       "        vertical-align: top;\n",
       "    }\n",
       "\n",
       "    .dataframe thead th {\n",
       "        text-align: right;\n",
       "    }\n",
       "</style>\n",
       "<table border=\"1\" class=\"dataframe\">\n",
       "  <thead>\n",
       "    <tr style=\"text-align: right;\">\n",
       "      <th></th>\n",
       "      <th>mode</th>\n",
       "      <th>bead_number</th>\n",
       "      <th>x_comp</th>\n",
       "      <th>y_comp</th>\n",
       "      <th>z_comp</th>\n",
       "    </tr>\n",
       "  </thead>\n",
       "  <tbody>\n",
       "    <tr>\n",
       "      <th>0</th>\n",
       "      <td>1</td>\n",
       "      <td>1</td>\n",
       "      <td>-0.049686</td>\n",
       "      <td>0.003702</td>\n",
       "      <td>-0.003721</td>\n",
       "    </tr>\n",
       "    <tr>\n",
       "      <th>1</th>\n",
       "      <td>1</td>\n",
       "      <td>2</td>\n",
       "      <td>-0.043219</td>\n",
       "      <td>0.005798</td>\n",
       "      <td>-0.003236</td>\n",
       "    </tr>\n",
       "    <tr>\n",
       "      <th>2</th>\n",
       "      <td>1</td>\n",
       "      <td>3</td>\n",
       "      <td>-0.035820</td>\n",
       "      <td>0.004682</td>\n",
       "      <td>-0.001633</td>\n",
       "    </tr>\n",
       "    <tr>\n",
       "      <th>3</th>\n",
       "      <td>1</td>\n",
       "      <td>4</td>\n",
       "      <td>-0.039140</td>\n",
       "      <td>0.010346</td>\n",
       "      <td>-0.003891</td>\n",
       "    </tr>\n",
       "    <tr>\n",
       "      <th>4</th>\n",
       "      <td>1</td>\n",
       "      <td>5</td>\n",
       "      <td>-0.041187</td>\n",
       "      <td>0.016402</td>\n",
       "      <td>-0.006047</td>\n",
       "    </tr>\n",
       "  </tbody>\n",
       "</table>\n",
       "</div>"
      ]
     },
     "metadata": {},
     "execution_count": 91
    }
   ],
   "metadata": {}
  },
  {
   "cell_type": "code",
   "execution_count": 72,
   "source": [
    "eigenvectors.to_csv(\"tmp/eigenvectors.csv\", index=None)"
   ],
   "outputs": [],
   "metadata": {}
  },
  {
   "cell_type": "code",
   "execution_count": 73,
   "source": [
    "eigenvectors[eigenvectors['mode'] == 7][['x_comp', 'y_comp', 'z_comp']].to_numpy()"
   ],
   "outputs": [
    {
     "output_type": "execute_result",
     "data": {
      "text/plain": [
       "array([[-0.048104 ,  0.0054316,  0.0041839],\n",
       "       [-0.043453 ,  0.010777 ,  0.0064199],\n",
       "       [-0.036101 ,  0.0083899,  0.011287 ],\n",
       "       ...,\n",
       "       [-0.025943 ,  0.0092304, -0.053933 ],\n",
       "       [-0.027371 ,  0.0096976, -0.059186 ],\n",
       "       [-0.028697 , -0.0029617, -0.062537 ]])"
      ]
     },
     "metadata": {},
     "execution_count": 73
    }
   ],
   "metadata": {}
  },
  {
   "cell_type": "markdown",
   "source": [
    "# Data processing\n",
    "Put here the core of the notebook. Feel free to further split this section into subsections."
   ],
   "metadata": {}
  },
  {
   "cell_type": "markdown",
   "source": [
    "# References\n",
    "We report here relevant references:\n",
    "1. author1, article1, journal1, year1, url1\n",
    "2. author2, article2, journal2, year2, url2"
   ],
   "metadata": {}
  },
  {
   "cell_type": "code",
   "execution_count": null,
   "source": [],
   "outputs": [],
   "metadata": {}
  }
 ],
 "metadata": {
  "kernelspec": {
   "display_name": "Python 3",
   "language": "python",
   "name": "python3"
  },
  "language_info": {
   "codemirror_mode": {
    "name": "ipython",
    "version": 3
   },
   "file_extension": ".py",
   "mimetype": "text/x-python",
   "name": "python",
   "nbconvert_exporter": "python",
   "pygments_lexer": "ipython3",
   "version": "3.8.8"
  },
  "pycharm": {
   "stem_cell": {
    "cell_type": "raw",
    "metadata": {
     "collapsed": false
    },
    "source": []
   }
  },
  "toc": {
   "base_numbering": 1,
   "nav_menu": {},
   "number_sections": true,
   "sideBar": true,
   "skip_h1_title": false,
   "title_cell": "Table of Contents",
   "title_sidebar": "Contents",
   "toc_cell": false,
   "toc_position": {},
   "toc_section_display": true,
   "toc_window_display": false
  },
  "varInspector": {
   "cols": {
    "lenName": 16,
    "lenType": 16,
    "lenVar": 40
   },
   "kernels_config": {
    "python": {
     "delete_cmd_postfix": "",
     "delete_cmd_prefix": "del ",
     "library": "var_list.py",
     "varRefreshCmd": "print(var_dic_list())"
    },
    "r": {
     "delete_cmd_postfix": ") ",
     "delete_cmd_prefix": "rm(",
     "library": "var_list.r",
     "varRefreshCmd": "cat(var_dic_list()) "
    }
   },
   "types_to_exclude": [
    "module",
    "function",
    "builtin_function_or_method",
    "instance",
    "_Feature"
   ],
   "window_display": false
  }
 },
 "nbformat": 4,
 "nbformat_minor": 4
}